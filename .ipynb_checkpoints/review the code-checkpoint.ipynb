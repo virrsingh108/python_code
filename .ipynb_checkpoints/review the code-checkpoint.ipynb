{
 "cells": [
  {
   "cell_type": "code",
   "execution_count": 1,
   "id": "4280d886-00db-4056-939a-fe374d946111",
   "metadata": {},
   "outputs": [],
   "source": [
    "from langchain_groq import ChatGroq\n",
    "import json\n",
    "\n",
    "llm = ChatGroq(\n",
    "    model=\"mixtral-8x7b-32768\",\n",
    "    temperature=0,\n",
    "    groq_api_key = \"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\"\n",
    ")\n",
    "\n",
    "python_code = \"\"\"\n",
    "def add(a, b):\n",
    "return a + b\n",
    "\"\"\"\n",
    "\n",
    "# Structured prompt for JSON output\n",
    "code_review_prompt = f\"\"\"\n",
    "You are a professional Python code reviewer. \n",
    "Analyze the following function and provide a structured review.\n",
    "\n",
    "Return the response in strict JSON format with three keys:\n",
    "- \"errors\": A list of syntax or logical errors.\n",
    "- \"suggestions\": A list of improvements.\n",
    "- \"optimized_code\": The corrected and optimized version of the function.\n",
    "\n",
    "Ensure your response is **valid JSON only**.\n",
    "\n",
    "```python\n",
    "{python_code}\n",
    "\"\"\"\n"
   ]
  }
 ],
 "metadata": {
  "kernelspec": {
   "display_name": "Python 3 (ipykernel)",
   "language": "python",
   "name": "python3"
  },
  "language_info": {
   "codemirror_mode": {
    "name": "ipython",
    "version": 3
   },
   "file_extension": ".py",
   "mimetype": "text/x-python",
   "name": "python",
   "nbconvert_exporter": "python",
   "pygments_lexer": "ipython3",
   "version": "3.9.13"
  }
 },
 "nbformat": 4,
 "nbformat_minor": 5
}
