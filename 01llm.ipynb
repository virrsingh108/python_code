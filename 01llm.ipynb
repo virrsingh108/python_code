{
 "cells": [
  {
   "cell_type": "code",
   "execution_count": 1,
   "id": "942ec64d-0a8e-433a-9482-3f1efa8237ba",
   "metadata": {},
   "outputs": [],
   "source": [
    "from langchain_groq import ChatGroq"
   ]
  },
  {
   "cell_type": "code",
   "execution_count": 2,
   "id": "638519d3-159f-4d45-93fb-e55357858a7e",
   "metadata": {},
   "outputs": [],
   "source": [
    "llm = ChatGroq(\n",
    "    model=\"mixtral-8x7b-32768\",\n",
    "temperature=0,\n",
    "groq_api_key = \"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\"\n",
    ")"
   ]
  },
  {
   "cell_type": "code",
   "execution_count": 3,
   "id": "72d25f21-9888-4105-892e-e9305fd07e95",
   "metadata": {},
   "outputs": [
    {
     "data": {
      "text/plain": [
       "AIMessage(content=\"The first Prime Minister of India was Jawaharlal Nehru. He served as Prime Minister from August 15, 1947 until his death on May 27, 1964. Nehru was a key leader in the Indian independence movement and played a major role in the negotiations with the British that led to India's independence in 1947. After independence, he became the first Prime Minister of the newly independent country and served as the head of government for 17 years. Nehru is considered to be the architect of modern India and is remembered for his contributions to the country's development and his efforts to promote peace and international cooperation.\", additional_kwargs={}, response_metadata={'token_usage': {'completion_tokens': 146, 'prompt_tokens': 15, 'total_tokens': 161, 'completion_time': 0.225079464, 'prompt_time': 0.002004455, 'queue_time': 0.0199668, 'total_time': 0.227083919}, 'model_name': 'mixtral-8x7b-32768', 'system_fingerprint': 'fp_c5f20b5bb1', 'finish_reason': 'stop', 'logprobs': None}, id='run-555a387e-5665-476f-b98c-218bb4fda00f-0', usage_metadata={'input_tokens': 15, 'output_tokens': 146, 'total_tokens': 161})"
      ]
     },
     "execution_count": 3,
     "metadata": {},
     "output_type": "execute_result"
    }
   ],
   "source": [
    "response = llm.invoke(\"who is first prime minister of india\")\n",
    "response"
   ]
  },
  {
   "cell_type": "code",
   "execution_count": null,
   "id": "66573bbd-ac77-48b6-b51d-722174e51ad8",
   "metadata": {},
   "outputs": [],
   "source": []
  }
 ],
 "metadata": {
  "kernelspec": {
   "display_name": "Python 3 (ipykernel)",
   "language": "python",
   "name": "python3"
  },
  "language_info": {
   "codemirror_mode": {
    "name": "ipython",
    "version": 3
   },
   "file_extension": ".py",
   "mimetype": "text/x-python",
   "name": "python",
   "nbconvert_exporter": "python",
   "pygments_lexer": "ipython3",
   "version": "3.10.8"
  }
 },
 "nbformat": 4,
 "nbformat_minor": 5
}
